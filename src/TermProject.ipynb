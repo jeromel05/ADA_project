{
 "cells": [
  {
   "cell_type": "code",
   "execution_count": 48,
   "metadata": {},
   "outputs": [],
   "source": [
    "%matplotlib inline\n",
    "import re\n",
    "import os\n",
    "import numpy as np\n",
    "import pandas as pd\n",
    "import seaborn as sns\n",
    "from requests import get\n",
    "from bs4 import BeautifulSoup\n",
    "import matplotlib.pyplot as plt\n",
    "from matplotlib.ticker import MaxNLocator"
   ]
  },
  {
   "cell_type": "markdown",
   "metadata": {},
   "source": [
    "# Import Data"
   ]
  },
  {
   "cell_type": "code",
   "execution_count": 2,
   "metadata": {},
   "outputs": [
    {
     "name": "stdout",
     "output_type": "stream",
     "text": [
      "campaign_desc.csv\n",
      "campaign_table.csv\n",
      "causal_data.csv\n",
      "coupon.csv\n",
      "coupon_redempt.csv\n",
      "hh_demographic.csv\n",
      "product.csv\n",
      "transaction_data.csv\n"
     ]
    }
   ],
   "source": [
    "dfList = []\n",
    "for r, d, f in os.walk('../data/dunnhumby - The Complete Journey CSV/'):\n",
    "    for file in f:\n",
    "        if '.csv' in file:\n",
    "            print(file)\n",
    "            dfList.append(pd.read_csv(os.path.join(r, file)))"
   ]
  },
  {
   "cell_type": "code",
   "execution_count": 3,
   "metadata": {},
   "outputs": [],
   "source": [
    "campaign_desc_df = dfList[0]\n",
    "campaign_table_df = dfList[1]\n",
    "causal_data_df = dfList[2]\n",
    "coupon_df = dfList[3]\n",
    "coupon_redempt_df = dfList[4]\n",
    "hh_demographic_df = dfList[5]\n",
    "product_df = dfList[6]\n",
    "transaction_data_df = dfList[7]"
   ]
  },
  {
   "cell_type": "markdown",
   "metadata": {},
   "source": [
    "# Observing Data"
   ]
  },
  {
   "cell_type": "code",
   "execution_count": null,
   "metadata": {},
   "outputs": [],
   "source": [
    "campaign_desc_df.head(2)"
   ]
  },
  {
   "cell_type": "code",
   "execution_count": null,
   "metadata": {},
   "outputs": [],
   "source": [
    "campaign_table_df.head(2)"
   ]
  },
  {
   "cell_type": "code",
   "execution_count": null,
   "metadata": {},
   "outputs": [],
   "source": [
    "causal_data_df.head(2)"
   ]
  },
  {
   "cell_type": "code",
   "execution_count": null,
   "metadata": {},
   "outputs": [],
   "source": [
    "coupon_df.head(2)"
   ]
  },
  {
   "cell_type": "code",
   "execution_count": null,
   "metadata": {},
   "outputs": [],
   "source": [
    "coupon_redempt_df.head(2)"
   ]
  },
  {
   "cell_type": "code",
   "execution_count": 22,
   "metadata": {},
   "outputs": [
    {
     "data": {
      "text/html": [
       "<div>\n",
       "<style scoped>\n",
       "    .dataframe tbody tr th:only-of-type {\n",
       "        vertical-align: middle;\n",
       "    }\n",
       "\n",
       "    .dataframe tbody tr th {\n",
       "        vertical-align: top;\n",
       "    }\n",
       "\n",
       "    .dataframe thead th {\n",
       "        text-align: right;\n",
       "    }\n",
       "</style>\n",
       "<table border=\"1\" class=\"dataframe\">\n",
       "  <thead>\n",
       "    <tr style=\"text-align: right;\">\n",
       "      <th></th>\n",
       "      <th>AGE_DESC</th>\n",
       "      <th>MARITAL_STATUS_CODE</th>\n",
       "      <th>INCOME_DESC</th>\n",
       "      <th>HOMEOWNER_DESC</th>\n",
       "      <th>HH_COMP_DESC</th>\n",
       "      <th>HOUSEHOLD_SIZE_DESC</th>\n",
       "      <th>KID_CATEGORY_DESC</th>\n",
       "      <th>household_key</th>\n",
       "      <th>purchase_rate</th>\n",
       "    </tr>\n",
       "  </thead>\n",
       "  <tbody>\n",
       "    <tr>\n",
       "      <td>0</td>\n",
       "      <td>65+</td>\n",
       "      <td>A</td>\n",
       "      <td>35-49K</td>\n",
       "      <td>Homeowner</td>\n",
       "      <td>2 Adults No Kids</td>\n",
       "      <td>2</td>\n",
       "      <td>None/Unknown</td>\n",
       "      <td>1</td>\n",
       "      <td>6.610931</td>\n",
       "    </tr>\n",
       "    <tr>\n",
       "      <td>1</td>\n",
       "      <td>45-54</td>\n",
       "      <td>A</td>\n",
       "      <td>50-74K</td>\n",
       "      <td>Homeowner</td>\n",
       "      <td>2 Adults No Kids</td>\n",
       "      <td>2</td>\n",
       "      <td>None/Unknown</td>\n",
       "      <td>7</td>\n",
       "      <td>4.956341</td>\n",
       "    </tr>\n",
       "  </tbody>\n",
       "</table>\n",
       "</div>"
      ],
      "text/plain": [
       "  AGE_DESC MARITAL_STATUS_CODE INCOME_DESC HOMEOWNER_DESC      HH_COMP_DESC  \\\n",
       "0      65+                   A      35-49K      Homeowner  2 Adults No Kids   \n",
       "1    45-54                   A      50-74K      Homeowner  2 Adults No Kids   \n",
       "\n",
       "  HOUSEHOLD_SIZE_DESC KID_CATEGORY_DESC  household_key  purchase_rate  \n",
       "0                   2      None/Unknown              1       6.610931  \n",
       "1                   2      None/Unknown              7       4.956341  "
      ]
     },
     "execution_count": 22,
     "metadata": {},
     "output_type": "execute_result"
    }
   ],
   "source": [
    "hh_demographic_df.head(2)"
   ]
  },
  {
   "cell_type": "markdown",
   "metadata": {},
   "source": [
    "This seems to be interesting data about households"
   ]
  },
  {
   "cell_type": "markdown",
   "metadata": {},
   "source": [
    "## Product Data"
   ]
  },
  {
   "cell_type": "code",
   "execution_count": null,
   "metadata": {},
   "outputs": [],
   "source": [
    "product_df.head(10)"
   ]
  },
  {
   "cell_type": "code",
   "execution_count": null,
   "metadata": {
    "scrolled": true
   },
   "outputs": [],
   "source": [
    "product_df.groupby('DEPARTMENT')['PRODUCT_ID'].count().plot.bar(rot=90,figsize=(9,5))"
   ]
  },
  {
   "cell_type": "markdown",
   "metadata": {},
   "source": [
    "Let us look at what kind of grocery items we can find"
   ]
  },
  {
   "cell_type": "code",
   "execution_count": null,
   "metadata": {},
   "outputs": [],
   "source": [
    "product_df[product_df['DEPARTMENT']=='GROCERY'].groupby('COMMODITY_DESC')['PRODUCT_ID'].count().sort_values(ascending=False)"
   ]
  },
  {
   "cell_type": "markdown",
   "metadata": {},
   "source": [
    "Let us look at what kind of 'Drug GM' products we have"
   ]
  },
  {
   "cell_type": "code",
   "execution_count": null,
   "metadata": {},
   "outputs": [],
   "source": [
    "product_df[product_df['DEPARTMENT']=='DRUG GM'].groupby('COMMODITY_DESC')['PRODUCT_ID'].count().sort_values(ascending=False)"
   ]
  },
  {
   "cell_type": "markdown",
   "metadata": {},
   "source": [
    "## Transaction Data"
   ]
  },
  {
   "cell_type": "code",
   "execution_count": null,
   "metadata": {},
   "outputs": [],
   "source": [
    "transaction_data_df.head()"
   ]
  },
  {
   "cell_type": "markdown",
   "metadata": {},
   "source": [
    "# Question 1: How is purchasing rate related to income?"
   ]
  },
  {
   "cell_type": "markdown",
   "metadata": {},
   "source": [
    "If we want to compare shopping amounts amongst households, we are subject to transaction amounts and the time in which they took place. We can compare the shopping rate amongst households by taking the derivative of the sales value over the cumulative days in which the shopping occured "
   ]
  },
  {
   "cell_type": "code",
   "execution_count": 4,
   "metadata": {},
   "outputs": [
    {
     "data": {
      "text/plain": [
       "household_key\n",
       "1    [51, 67, 88, 94, 101, 108, 111, 128, 137, 146,...\n",
       "2    [103, 112, 117, 118, 121, 139, 140, 147, 154, ...\n",
       "3    [113, 121, 136, 139, 141, 142, 163, 166, 169, ...\n",
       "4    [104, 140, 154, 181, 190, 199, 216, 231, 244, ...\n",
       "5    [85, 87, 88, 97, 111, 131, 138, 154, 168, 181,...\n",
       "Name: DAY, dtype: object"
      ]
     },
     "execution_count": 4,
     "metadata": {},
     "output_type": "execute_result"
    }
   ],
   "source": [
    "# turn the days of purchase into a list\n",
    "days_purchased_each_house=transaction_data_df.groupby(['household_key','DAY','STORE_ID'])['SALES_VALUE']\\\n",
    ".sum()\\\n",
    ".reset_index()\\\n",
    ".set_index('household_key')\\\n",
    ".groupby('household_key')['DAY'].apply(list)\n",
    "days_purchased_each_house.head()\n"
   ]
  },
  {
   "cell_type": "code",
   "execution_count": 5,
   "metadata": {},
   "outputs": [
    {
     "data": {
      "text/plain": [
       "household_key\n",
       "1    [78.66, 41.1, 26.9, 63.43, 53.449999999999996,...\n",
       "2    [22.7, 4.38, 12.84, 30.849999999999994, 26.94,...\n",
       "3    [46.81000000000001, 21.450000000000003, 74.43,...\n",
       "4    [126.23999999999997, 123.77999999999999, 31.75...\n",
       "5    [4.48, 5.54, 13.68, 60.04000000000001, 58.4899...\n",
       "Name: SALES_VALUE, dtype: object"
      ]
     },
     "execution_count": 5,
     "metadata": {},
     "output_type": "execute_result"
    }
   ],
   "source": [
    "#turn the transaction values into a list\n",
    "transaction_val_each_house=transaction_data_df.groupby(['household_key','DAY','STORE_ID'])['SALES_VALUE']\\\n",
    ".sum()\\\n",
    ".reset_index()\\\n",
    ".set_index('household_key')\\\n",
    ".groupby('household_key')['SALES_VALUE'].apply(list)\n",
    "transaction_val_each_house.head()"
   ]
  },
  {
   "cell_type": "code",
   "execution_count": 6,
   "metadata": {},
   "outputs": [],
   "source": [
    "#merge\n",
    "transaction_freq_df = pd.merge(transaction_val_each_house,days_purchased_each_house,\\\n",
    "                               left_on='household_key',right_on='household_key')\n"
   ]
  },
  {
   "cell_type": "code",
   "execution_count": 7,
   "metadata": {},
   "outputs": [
    {
     "data": {
      "text/html": [
       "<div>\n",
       "<style scoped>\n",
       "    .dataframe tbody tr th:only-of-type {\n",
       "        vertical-align: middle;\n",
       "    }\n",
       "\n",
       "    .dataframe tbody tr th {\n",
       "        vertical-align: top;\n",
       "    }\n",
       "\n",
       "    .dataframe thead th {\n",
       "        text-align: right;\n",
       "    }\n",
       "</style>\n",
       "<table border=\"1\" class=\"dataframe\">\n",
       "  <thead>\n",
       "    <tr style=\"text-align: right;\">\n",
       "      <th></th>\n",
       "      <th>SALES_VALUE</th>\n",
       "      <th>DAY</th>\n",
       "    </tr>\n",
       "    <tr>\n",
       "      <th>household_key</th>\n",
       "      <th></th>\n",
       "      <th></th>\n",
       "    </tr>\n",
       "  </thead>\n",
       "  <tbody>\n",
       "    <tr>\n",
       "      <td>1</td>\n",
       "      <td>[78.66, 41.1, 26.9, 63.43, 53.449999999999996,...</td>\n",
       "      <td>[51, 67, 88, 94, 101, 108, 111, 128, 137, 146,...</td>\n",
       "    </tr>\n",
       "    <tr>\n",
       "      <td>2</td>\n",
       "      <td>[22.7, 4.38, 12.84, 30.849999999999994, 26.94,...</td>\n",
       "      <td>[103, 112, 117, 118, 121, 139, 140, 147, 154, ...</td>\n",
       "    </tr>\n",
       "    <tr>\n",
       "      <td>3</td>\n",
       "      <td>[46.81000000000001, 21.450000000000003, 74.43,...</td>\n",
       "      <td>[113, 121, 136, 139, 141, 142, 163, 166, 169, ...</td>\n",
       "    </tr>\n",
       "    <tr>\n",
       "      <td>4</td>\n",
       "      <td>[126.23999999999997, 123.77999999999999, 31.75...</td>\n",
       "      <td>[104, 140, 154, 181, 190, 199, 216, 231, 244, ...</td>\n",
       "    </tr>\n",
       "    <tr>\n",
       "      <td>5</td>\n",
       "      <td>[4.48, 5.54, 13.68, 60.04000000000001, 58.4899...</td>\n",
       "      <td>[85, 87, 88, 97, 111, 131, 138, 154, 168, 181,...</td>\n",
       "    </tr>\n",
       "  </tbody>\n",
       "</table>\n",
       "</div>"
      ],
      "text/plain": [
       "                                                     SALES_VALUE  \\\n",
       "household_key                                                      \n",
       "1              [78.66, 41.1, 26.9, 63.43, 53.449999999999996,...   \n",
       "2              [22.7, 4.38, 12.84, 30.849999999999994, 26.94,...   \n",
       "3              [46.81000000000001, 21.450000000000003, 74.43,...   \n",
       "4              [126.23999999999997, 123.77999999999999, 31.75...   \n",
       "5              [4.48, 5.54, 13.68, 60.04000000000001, 58.4899...   \n",
       "\n",
       "                                                             DAY  \n",
       "household_key                                                     \n",
       "1              [51, 67, 88, 94, 101, 108, 111, 128, 137, 146,...  \n",
       "2              [103, 112, 117, 118, 121, 139, 140, 147, 154, ...  \n",
       "3              [113, 121, 136, 139, 141, 142, 163, 166, 169, ...  \n",
       "4              [104, 140, 154, 181, 190, 199, 216, 231, 244, ...  \n",
       "5              [85, 87, 88, 97, 111, 131, 138, 154, 168, 181,...  "
      ]
     },
     "execution_count": 7,
     "metadata": {},
     "output_type": "execute_result"
    }
   ],
   "source": [
    "transaction_freq_df.head()\n",
    "    "
   ]
  },
  {
   "cell_type": "code",
   "execution_count": 13,
   "metadata": {},
   "outputs": [],
   "source": [
    "def compute_transaction_rate(df):\n",
    "    x = np.array(df['DAY'])\n",
    "    #Compute cumulative sum of sales value\n",
    "    y = []\n",
    "    cum_trans = 0\n",
    "    for transaction in df['SALES_VALUE']:\n",
    "        cum_trans = cum_trans+transaction\n",
    "    if (x[-1]-x[0])==0:\n",
    "        ans = np.nan\n",
    "    else:\n",
    "        ans = cum_trans/(x[-1]-x[0])\n",
    "    return ans"
   ]
  },
  {
   "cell_type": "code",
   "execution_count": 29,
   "metadata": {},
   "outputs": [
    {
     "data": {
      "text/plain": [
       "Text(0, 0.5, 'Frequency')"
      ]
     },
     "execution_count": 29,
     "metadata": {},
     "output_type": "execute_result"
    },
    {
     "data": {
      "image/png": "[encoded data removed]",
      "text/plain": [
       "<Figure size 432x288 with 1 Axes>"
      ]
     },
     "metadata": {
      "needs_background": "light"
     },
     "output_type": "display_data"
    }
   ],
   "source": [
    "purchase_rate=transaction_freq_df.apply(compute_transaction_rate,axis=1)\n",
    "purchase_rate.hist(bins=200)\n",
    "ax = plt.gca()\n",
    "ax.set_title('Purchasing Rate vs. Household')\n",
    "ax.set_xlabel('Purchasing rate ($/day)')\n",
    "ax.set_ylabel('Frequency')\n"
   ]
  },
  {
   "cell_type": "code",
   "execution_count": 31,
   "metadata": {},
   "outputs": [
    {
     "data": {
      "text/plain": [
       "household_key\n",
       "1023    63.548574\n",
       "1609    41.643767\n",
       "2322    36.661891\n",
       "1453    35.336525\n",
       "1430    32.051953\n",
       "          ...    \n",
       "1647     0.081174\n",
       "522      0.070870\n",
       "494           NaN\n",
       "1830          NaN\n",
       "1897          NaN\n",
       "Length: 2500, dtype: float64"
      ]
     },
     "execution_count": 31,
     "metadata": {},
     "output_type": "execute_result"
    }
   ],
   "source": [
    "purchase_rate.sort_values(ascending=False)\n",
    "#Find outliers"
   ]
  },
  {
   "cell_type": "code",
   "execution_count": 15,
   "metadata": {},
   "outputs": [],
   "source": [
    "purchase_rate.rename('purchase_rate',inplace=True)\n",
    "hh_demographic_df = hh_demographic_df.join(purchase_rate,on='household_key')"
   ]
  },
  {
   "cell_type": "code",
   "execution_count": 21,
   "metadata": {},
   "outputs": [
    {
     "data": {
      "text/html": [
       "<div>\n",
       "<style scoped>\n",
       "    .dataframe tbody tr th:only-of-type {\n",
       "        vertical-align: middle;\n",
       "    }\n",
       "\n",
       "    .dataframe tbody tr th {\n",
       "        vertical-align: top;\n",
       "    }\n",
       "\n",
       "    .dataframe thead th {\n",
       "        text-align: right;\n",
       "    }\n",
       "</style>\n",
       "<table border=\"1\" class=\"dataframe\">\n",
       "  <thead>\n",
       "    <tr style=\"text-align: right;\">\n",
       "      <th></th>\n",
       "      <th>mean</th>\n",
       "      <th>std</th>\n",
       "    </tr>\n",
       "    <tr>\n",
       "      <th>HOUSEHOLD_SIZE_DESC</th>\n",
       "      <th></th>\n",
       "      <th></th>\n",
       "    </tr>\n",
       "  </thead>\n",
       "  <tbody>\n",
       "    <tr>\n",
       "      <td>1</td>\n",
       "      <td>7.817810</td>\n",
       "      <td>5.130117</td>\n",
       "    </tr>\n",
       "    <tr>\n",
       "      <td>2</td>\n",
       "      <td>8.743405</td>\n",
       "      <td>5.416140</td>\n",
       "    </tr>\n",
       "    <tr>\n",
       "      <td>3</td>\n",
       "      <td>9.566740</td>\n",
       "      <td>6.791548</td>\n",
       "    </tr>\n",
       "    <tr>\n",
       "      <td>4</td>\n",
       "      <td>10.382001</td>\n",
       "      <td>6.231943</td>\n",
       "    </tr>\n",
       "    <tr>\n",
       "      <td>6</td>\n",
       "      <td>10.325423</td>\n",
       "      <td>7.857083</td>\n",
       "    </tr>\n",
       "  </tbody>\n",
       "</table>\n",
       "</div>"
      ],
      "text/plain": [
       "                          mean       std\n",
       "HOUSEHOLD_SIZE_DESC                     \n",
       "1                     7.817810  5.130117\n",
       "2                     8.743405  5.416140\n",
       "3                     9.566740  6.791548\n",
       "4                    10.382001  6.231943\n",
       "6                    10.325423  7.857083"
      ]
     },
     "execution_count": 21,
     "metadata": {},
     "output_type": "execute_result"
    }
   ],
   "source": [
    "hh_demographic_df.replace('5+','6').\\\n",
    "groupby('HOUSEHOLD_SIZE_DESC')['purchase_rate'].agg(['mean','std'])\n",
    "#ax = plt.gca()\n",
    "#ax.set_title('Purchasing Rate vs. Household Size')\n",
    "#ax.set_xlabel('Household')\n",
    "#ax.set_ylabel('Purchasing rate ($/day)')"
   ]
  },
  {
   "cell_type": "code",
   "execution_count": 63,
   "metadata": {},
   "outputs": [
    {
     "data": {
      "text/html": [
       "<div>\n",
       "<style scoped>\n",
       "    .dataframe tbody tr th:only-of-type {\n",
       "        vertical-align: middle;\n",
       "    }\n",
       "\n",
       "    .dataframe tbody tr th {\n",
       "        vertical-align: top;\n",
       "    }\n",
       "\n",
       "    .dataframe thead th {\n",
       "        text-align: right;\n",
       "    }\n",
       "</style>\n",
       "<table border=\"1\" class=\"dataframe\">\n",
       "  <thead>\n",
       "    <tr style=\"text-align: right;\">\n",
       "      <th></th>\n",
       "      <th>INCOME_DESC</th>\n",
       "      <th>purchase_rate</th>\n",
       "    </tr>\n",
       "  </thead>\n",
       "  <tbody>\n",
       "    <tr>\n",
       "      <td>71</td>\n",
       "      <td>125-149K</td>\n",
       "      <td>41.643767</td>\n",
       "    </tr>\n",
       "    <tr>\n",
       "      <td>186</td>\n",
       "      <td>175-199K</td>\n",
       "      <td>36.661891</td>\n",
       "    </tr>\n",
       "    <tr>\n",
       "      <td>70</td>\n",
       "      <td>125-149K</td>\n",
       "      <td>35.336525</td>\n",
       "    </tr>\n",
       "    <tr>\n",
       "      <td>451</td>\n",
       "      <td>35-49K</td>\n",
       "      <td>32.051953</td>\n",
       "    </tr>\n",
       "    <tr>\n",
       "      <td>33</td>\n",
       "      <td>100-124K</td>\n",
       "      <td>31.569770</td>\n",
       "    </tr>\n",
       "  </tbody>\n",
       "</table>\n",
       "</div>"
      ],
      "text/plain": [
       "    INCOME_DESC  purchase_rate\n",
       "71     125-149K      41.643767\n",
       "186    175-199K      36.661891\n",
       "70     125-149K      35.336525\n",
       "451      35-49K      32.051953\n",
       "33     100-124K      31.569770"
      ]
     },
     "execution_count": 63,
     "metadata": {},
     "output_type": "execute_result"
    }
   ],
   "source": [
    "idesc_purchrate = hh_demographic_df.groupby(['INCOME_DESC','purchase_rate'])['household_key'].count().\\\n",
    "reset_index().drop(columns='household_key').sort_values(by='purchase_rate',ascending=False)\n",
    "idesc_purchrate.head()"
   ]
  },
  {
   "cell_type": "code",
   "execution_count": 91,
   "metadata": {},
   "outputs": [
    {
     "data": {
      "text/plain": [
       "Text(0, 0.5, 'Purchase Rate ($/day)')"
      ]
     },
     "execution_count": 91,
     "metadata": {},
     "output_type": "execute_result"
    },
    {
     "data": {
      "image/png": "[encoded data removed]",
      "text/plain": [
       "<Figure size 432x288 with 1 Axes>"
      ]
     },
     "metadata": {
      "needs_background": "light"
     },
     "output_type": "display_data"
    }
   ],
   "source": [
    "order = ['250K+','200-249K','175-199K','150-174K','125-149K','100-124K', '75-99K','50-74K','35-49K','25-34K','15-24K']\n",
    "p1=sns.stripplot(x=idesc_purchrate.INCOME_DESC, y=idesc_purchrate.purchase_rate, data=idesc_purchrate,order=order,size=2,color='.3')\n",
    "p1.set_xticklabels(p1.get_xticklabels(),rotation=45)\n",
    "p1 = sns.boxplot(x=idesc_purchrate.INCOME_DESC, y=idesc_purchrate.purchase_rate, data=idesc_purchrate,order=order)\n",
    "p1.set_ylabel('Purchase Rate ($/day)')"
   ]
  },
  {
   "cell_type": "code",
   "execution_count": 27,
   "metadata": {},
   "outputs": [
    {
     "data": {
      "text/html": [
       "<div>\n",
       "<style scoped>\n",
       "    .dataframe tbody tr th:only-of-type {\n",
       "        vertical-align: middle;\n",
       "    }\n",
       "\n",
       "    .dataframe tbody tr th {\n",
       "        vertical-align: top;\n",
       "    }\n",
       "\n",
       "    .dataframe thead th {\n",
       "        text-align: right;\n",
       "    }\n",
       "</style>\n",
       "<table border=\"1\" class=\"dataframe\">\n",
       "  <thead>\n",
       "    <tr style=\"text-align: right;\">\n",
       "      <th></th>\n",
       "      <th>mean</th>\n",
       "      <th>std</th>\n",
       "    </tr>\n",
       "    <tr>\n",
       "      <th>AGE_DESC</th>\n",
       "      <th></th>\n",
       "      <th></th>\n",
       "    </tr>\n",
       "  </thead>\n",
       "  <tbody>\n",
       "    <tr>\n",
       "      <td>35-44</td>\n",
       "      <td>9.986070</td>\n",
       "      <td>6.403561</td>\n",
       "    </tr>\n",
       "    <tr>\n",
       "      <td>45-54</td>\n",
       "      <td>9.036293</td>\n",
       "      <td>6.286432</td>\n",
       "    </tr>\n",
       "    <tr>\n",
       "      <td>25-34</td>\n",
       "      <td>8.548801</td>\n",
       "      <td>5.415285</td>\n",
       "    </tr>\n",
       "    <tr>\n",
       "      <td>55-64</td>\n",
       "      <td>7.928738</td>\n",
       "      <td>4.800478</td>\n",
       "    </tr>\n",
       "    <tr>\n",
       "      <td>19-24</td>\n",
       "      <td>7.411020</td>\n",
       "      <td>4.467614</td>\n",
       "    </tr>\n",
       "    <tr>\n",
       "      <td>65+</td>\n",
       "      <td>6.750850</td>\n",
       "      <td>4.171274</td>\n",
       "    </tr>\n",
       "  </tbody>\n",
       "</table>\n",
       "</div>"
      ],
      "text/plain": [
       "              mean       std\n",
       "AGE_DESC                    \n",
       "35-44     9.986070  6.403561\n",
       "45-54     9.036293  6.286432\n",
       "25-34     8.548801  5.415285\n",
       "55-64     7.928738  4.800478\n",
       "19-24     7.411020  4.467614\n",
       "65+       6.750850  4.171274"
      ]
     },
     "execution_count": 27,
     "metadata": {},
     "output_type": "execute_result"
    }
   ],
   "source": [
    "hh_demographic_df.groupby('AGE_DESC')['purchase_rate'].agg(['mean','std']).sort_values(by='mean',ascending=False)"
   ]
  },
  {
   "cell_type": "code",
   "execution_count": null,
   "metadata": {},
   "outputs": [],
   "source": []
  }
 ],
 "metadata": {
  "kernelspec": {
   "display_name": "Python 3",
   "language": "python",
   "name": "python3"
  },
  "language_info": {
   "codemirror_mode": {
    "name": "ipython",
    "version": 3
   },
   "file_extension": ".py",
   "mimetype": "text/x-python",
   "name": "python",
   "nbconvert_exporter": "python",
   "pygments_lexer": "ipython3",
   "version": "3.7.0"
  }
 },
 "nbformat": 4,
 "nbformat_minor": 2
}
